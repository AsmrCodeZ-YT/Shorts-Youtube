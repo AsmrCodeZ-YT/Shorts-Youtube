{
 "cells": [
  {
   "cell_type": "markdown",
   "metadata": {},
   "source": [
    "# Normal Pyramid\n",
    "\n",
    "[@owner2plusai](www.github.com)"
   ]
  },
  {
   "cell_type": "code",
   "execution_count": 67,
   "metadata": {},
   "outputs": [
    {
     "name": "stdout",
     "output_type": "stream",
     "text": [
      "                                        \n",
      "                   *                    \n",
      "                  * *                   \n",
      "                 * * *                  \n",
      "                * * * *                 \n",
      "               * * * * *                \n",
      "              * * * * * *               \n",
      "             * * * * * * *              \n",
      "            * * * * * * * *             \n",
      "           * * * * * * * * *            \n"
     ]
    }
   ],
   "source": [
    "# Normal Pyramid\n",
    "Symbol = \"# \"\n",
    "num = 10\n",
    "for i in range(num):\n",
    "    x = \"* \"\n",
    "    x = x * i\n",
    "    print(f\"{x: ^40}\")"
   ]
  },
  {
   "cell_type": "markdown",
   "metadata": {},
   "source": [
    "# N-Invert Pyramid\n",
    "\n",
    "[YouTube : @owner2plusai](www.github.com)"
   ]
  },
  {
   "cell_type": "code",
   "execution_count": 68,
   "metadata": {},
   "outputs": [
    {
     "name": "stdout",
     "output_type": "stream",
     "text": [
      "          # # # # # # # # # #           \n",
      "           # # # # # # # # #            \n",
      "            # # # # # # # #             \n",
      "             # # # # # # #              \n",
      "              # # # # # #               \n",
      "               # # # # #                \n",
      "                # # # #                 \n",
      "                 # # #                  \n",
      "                  # #                   \n",
      "                   #                    \n"
     ]
    }
   ],
   "source": [
    "Symbol = \"# \"\n",
    "num = 10\n",
    "for i in range(num):\n",
    "    x = Symbol\n",
    "    x = x * (num - i)\n",
    "    print(f\"{x: ^40}\")"
   ]
  },
  {
   "cell_type": "markdown",
   "metadata": {},
   "source": [
    "# Left-side Pyramid\n",
    "\n",
    "[YouTube : @owner2plusai](www.github.com)"
   ]
  },
  {
   "cell_type": "code",
   "execution_count": 78,
   "metadata": {},
   "outputs": [
    {
     "name": "stdout",
     "output_type": "stream",
     "text": [
      "                                        \n",
      "@                                       \n",
      "@ @                                     \n",
      "@ @ @                                   \n",
      "@ @ @ @                                 \n",
      "@ @ @ @ @                               \n",
      "@ @ @ @ @ @                             \n",
      "@ @ @ @ @ @ @                           \n",
      "@ @ @ @ @ @ @ @                         \n",
      "@ @ @ @ @ @ @ @ @                       \n"
     ]
    }
   ],
   "source": [
    "Symbol = \"@ \"\n",
    "num = 10\n",
    "for i in range(num):\n",
    "    x = Symbol\n",
    "    x = x*i\n",
    "    print(f\"{x: <40}\")"
   ]
  },
  {
   "cell_type": "markdown",
   "metadata": {},
   "source": [
    "# Right-side Pyramid\n",
    "\n",
    "[YouTube : @owner2plusai](www.github.com)"
   ]
  },
  {
   "cell_type": "code",
   "execution_count": 77,
   "metadata": {},
   "outputs": [
    {
     "name": "stdout",
     "output_type": "stream",
     "text": [
      "                                        \n",
      "                                      ? \n",
      "                                    ? ? \n",
      "                                  ? ? ? \n",
      "                                ? ? ? ? \n",
      "                              ? ? ? ? ? \n",
      "                            ? ? ? ? ? ? \n",
      "                          ? ? ? ? ? ? ? \n",
      "                        ? ? ? ? ? ? ? ? \n",
      "                      ? ? ? ? ? ? ? ? ? \n"
     ]
    }
   ],
   "source": [
    "Symbol = \"? \"\n",
    "num = 10\n",
    "for i in range(num):\n",
    "    x = Symbol\n",
    "    x = x * i\n",
    "    print(f\"{x: >40}\")"
   ]
  }
 ],
 "metadata": {
  "kernelspec": {
   "display_name": "Python 3",
   "language": "python",
   "name": "python3"
  },
  "language_info": {
   "codemirror_mode": {
    "name": "ipython",
    "version": 3
   },
   "file_extension": ".py",
   "mimetype": "text/x-python",
   "name": "python",
   "nbconvert_exporter": "python",
   "pygments_lexer": "ipython3",
   "version": "3.12.0"
  }
 },
 "nbformat": 4,
 "nbformat_minor": 2
}
