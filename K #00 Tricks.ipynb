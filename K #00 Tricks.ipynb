{
 "cells": [
  {
   "cell_type": "code",
   "execution_count": null,
   "metadata": {},
   "outputs": [],
   "source": [
    "# unpacking\n",
    "tuple_ = (2,4,6)\n",
    "def unpack(x,y,k):\n",
    "    return x,y,k\n",
    "\n",
    "print(unpack(*tuple_))"
   ]
  },
  {
   "cell_type": "code",
   "execution_count": null,
   "metadata": {},
   "outputs": [],
   "source": [
    "#find the most frequent value in a list\n",
    "a = [1,1,1,2,2,3,4,5,6,7,8,9]\n",
    "# how ?????\n",
    "print(max(set(a), key=a.count))"
   ]
  },
  {
   "attachments": {},
   "cell_type": "markdown",
   "metadata": {},
   "source": [
    "Trick3"
   ]
  },
  {
   "cell_type": "code",
   "execution_count": 6,
   "metadata": {},
   "outputs": [
    {
     "data": {
      "text/plain": [
       "[1, 2, 3, 4, 5, 6]"
      ]
     },
     "execution_count": 6,
     "metadata": {},
     "output_type": "execute_result"
    }
   ],
   "source": [
    "# Flatten Iterables\n",
    "\n",
    "import itertools\n",
    "\n",
    "a = [[1,2],[3,4],[5,6]]\n",
    "\n",
    "\n",
    "list(itertools.chain.from_iterable(a))\n",
    "\n"
   ]
  },
  {
   "attachments": {},
   "cell_type": "markdown",
   "metadata": {},
   "source": [
    "trick4"
   ]
  },
  {
   "cell_type": "code",
   "execution_count": 9,
   "metadata": {},
   "outputs": [
    {
     "name": "stdout",
     "output_type": "stream",
     "text": [
      "{'Jon': 14, 'OWNER': 12, 'Sam': 22}\n"
     ]
    }
   ],
   "source": [
    "# convert list into dic\n",
    "user = [\"Jon\" , \"OWNER\" , \"Sam\"]\n",
    "age = [14 ,12 ,22]\n",
    "\n",
    "\n",
    "dic = dict(zip(user,age))\n",
    "print(dic)"
   ]
  },
  {
   "attachments": {},
   "cell_type": "markdown",
   "metadata": {},
   "source": [
    "trick5"
   ]
  },
  {
   "cell_type": "code",
   "execution_count": 17,
   "metadata": {},
   "outputs": [
    {
     "name": "stdout",
     "output_type": "stream",
     "text": [
      "[(1, 4), (2, 5), (3, 6)]\n"
     ]
    }
   ],
   "source": [
    "# tranposing a matrix in python\n",
    "\n",
    "math = [[1,2,3], [4,5,6]]\n",
    "\n",
    "\n",
    "a = list(zip(*math))\n",
    "\n",
    "print(a)\n"
   ]
  },
  {
   "attachments": {},
   "cell_type": "markdown",
   "metadata": {},
   "source": [
    "trick6\n"
   ]
  },
  {
   "cell_type": "code",
   "execution_count": 43,
   "metadata": {},
   "outputs": [
    {
     "name": "stdout",
     "output_type": "stream",
     "text": [
      "dic1 {'k': 5}\n",
      "dic1 {'k': 5, 't': 8}\n",
      "dic2 {'t': 8}\n"
     ]
    }
   ],
   "source": [
    "# merge dics\n",
    "\n",
    "dic1 = {\"k\" : 5}\n",
    "print(\"dic1\",dic1)\n",
    "dic2 = {\"t\" : 8}\n",
    "\n",
    "\n",
    "dic1.update(dic2)\n",
    "\n",
    "print(\"dic1\",dic1)\n",
    "print(\"dic2\",dic2)"
   ]
  },
  {
   "attachments": {},
   "cell_type": "markdown",
   "metadata": {},
   "source": [
    "trick7"
   ]
  },
  {
   "cell_type": "code",
   "execution_count": 49,
   "metadata": {},
   "outputs": [
    {
     "name": "stdout",
     "output_type": "stream",
     "text": [
      "a {'k': 5, 't': 8}\n",
      "dic1 {'k': 5}\n",
      "dic2 {'t': 8}\n"
     ]
    }
   ],
   "source": [
    "# merge dics with out change dic1 and dic2\n",
    "\n",
    "dic1 = {\"k\" : 5}\n",
    "dic2 = {\"t\" : 8}\n",
    "\n",
    "a = dict(dic1.items() | dic2.items())\n",
    "\n",
    "\n",
    "print(\"a\",a)\n",
    "print(\"dic1\",dic1)\n",
    "print(\"dic2\",dic2)\n"
   ]
  },
  {
   "attachments": {},
   "cell_type": "markdown",
   "metadata": {},
   "source": [
    "trick8"
   ]
  },
  {
   "cell_type": "code",
   "execution_count": 54,
   "metadata": {},
   "outputs": [
    {
     "name": "stdout",
     "output_type": "stream",
     "text": [
      "[0, 2, 4, 6, 8, 10]\n",
      "[1, 3, 5, 7, 9]\n"
     ]
    }
   ],
   "source": [
    "# list slices with step \n",
    "\n",
    "# method slice(Start:end:step)\n",
    "slice_ = [0,1,2,3,4,5,6,7,8,9,10] \n",
    "\n",
    "\n",
    "# give me even number \n",
    "\n",
    "even_number = slice_[::2]\n",
    "# give me odd number \n",
    "odd_number = slice_[1::2]\n",
    "\n",
    "print(even_number)\n",
    "print(odd_number)\n"
   ]
  },
  {
   "attachments": {},
   "cell_type": "markdown",
   "metadata": {},
   "source": [
    "tirck9"
   ]
  },
  {
   "cell_type": "code",
   "execution_count": 108,
   "metadata": {},
   "outputs": [
    {
     "name": "stdout",
     "output_type": "stream",
     "text": [
      "Sam\n",
      "jon\n",
      "fish\n",
      "monkey\n",
      "-------------------\n",
      "monkey\n",
      "fish\n",
      "jon\n",
      "Sam\n"
     ]
    }
   ],
   "source": [
    "# how to reversed list and reversed search\n",
    "\n",
    "lst = [\"Sam\", \"jon\",\"fish\",\"monkey\"]\n",
    "\n",
    "\n",
    "for i in lst :\n",
    "    print(i)\n",
    "print(\"-------------------\")\n",
    "a = list(reversed(lst))\n",
    "\n",
    "for i in a :\n",
    "    print(i)\n"
   ]
  },
  {
   "attachments": {},
   "cell_type": "markdown",
   "metadata": {},
   "source": [
    "trick10"
   ]
  },
  {
   "cell_type": "code",
   "execution_count": 3,
   "metadata": {},
   "outputs": [
    {
     "name": "stdout",
     "output_type": "stream",
     "text": [
      "35\n"
     ]
    }
   ],
   "source": [
    "# Youtube/owner2plusai\n",
    "# High level Python coding\n",
    "\n",
    "\n",
    "def product(a , b):\n",
    "    return a * b\n",
    "\n",
    "def add(a, b):\n",
    "    return a + b\n",
    "\n",
    "b = True \n",
    "\n",
    "\n",
    "print((product if b else add)(5 , 7))\n",
    "\n",
    "\n"
   ]
  },
  {
   "cell_type": "markdown",
   "metadata": {},
   "source": [
    "Trick 11  **@Youtube/owner2plusai**\n"
   ]
  },
  {
   "cell_type": "code",
   "execution_count": 4,
   "metadata": {},
   "outputs": [
    {
     "name": "stdout",
     "output_type": "stream",
     "text": [
      "Reverse the string !dlroW olleH\n"
     ]
    }
   ],
   "source": [
    "# Reversing a string in Python\n",
    "\n",
    "\n",
    "A = \"Hello World!\"\n",
    "\n",
    "print(\"Reverse the string\" , A[::-1])\n",
    "\n",
    "\n",
    "\n",
    "\n",
    "\n",
    "\n",
    "\n"
   ]
  },
  {
   "attachments": {},
   "cell_type": "markdown",
   "metadata": {},
   "source": [
    "Trick 12  **@Youtube/owner2plusai**"
   ]
  },
  {
   "cell_type": "code",
   "execution_count": 5,
   "metadata": {},
   "outputs": [
    {
     "name": "stdout",
     "output_type": "stream",
     "text": [
      "8\n"
     ]
    }
   ],
   "source": [
    "# find the most Frequent value in list\n",
    "\n",
    "\n",
    "\n",
    "\n",
    "test = [2,4,5,7,8,8,8,9,33,6,8,90,0]\n",
    "\n",
    "print(max(set(test), key = test.count))"
   ]
  },
  {
   "attachments": {},
   "cell_type": "markdown",
   "metadata": {},
   "source": [
    "Trick 13  **@Youtube/owner2plusai**"
   ]
  },
  {
   "cell_type": "code",
   "execution_count": 12,
   "metadata": {},
   "outputs": [
    {
     "name": "stdout",
     "output_type": "stream",
     "text": [
      "1 (1, 2, 3)\n",
      "2 (1, 3, 2)\n",
      "3 (2, 1, 3)\n",
      "4 (2, 3, 1)\n",
      "5 (3, 1, 2)\n",
      "6 (3, 2, 1)\n"
     ]
    }
   ],
   "source": [
    "# Generate all permutation of a list\n",
    "import itertools\n",
    "\n",
    "a = list(itertools.permutations([1,2,3]))\n",
    "\n",
    "\n",
    "for index , tup_ in enumerate(a):\n",
    "    print(index + 1 , tup_)\n"
   ]
  },
  {
   "attachments": {},
   "cell_type": "markdown",
   "metadata": {},
   "source": [
    "Trick 14  **@Youtube/owner2plusai**"
   ]
  },
  {
   "cell_type": "code",
   "execution_count": 19,
   "metadata": {},
   "outputs": [
    {
     "name": "stdout",
     "output_type": "stream",
     "text": [
      "Real [1, 2, -3]\n",
      "normal [-3, 1, 2]\n",
      "abs [1, 2, -3]\n"
     ]
    }
   ],
   "source": [
    "a = [1 ,2 ,-3]\n",
    "\n",
    "# normal sort & Sort by absolute Value\n",
    "\n",
    "\n",
    "\n",
    "b = sorted(a)\n",
    "c = sorted(a , key = abs)\n",
    "\n",
    "\n",
    "print(\"Real\" , a)\n",
    "print(\"normal\" , b)\n",
    "print(\"abs\" , c)\n",
    "\n"
   ]
  }
 ],
 "metadata": {
  "kernelspec": {
   "display_name": "Python 3",
   "language": "python",
   "name": "python3"
  },
  "language_info": {
   "codemirror_mode": {
    "name": "ipython",
    "version": 3
   },
   "file_extension": ".py",
   "mimetype": "text/x-python",
   "name": "python",
   "nbconvert_exporter": "python",
   "pygments_lexer": "ipython3",
   "version": "3.10.1"
  },
  "orig_nbformat": 4,
  "vscode": {
   "interpreter": {
    "hash": "5cd147847f5c9c61d04539150fa2ef565c6a07a09a1f8c3016ed38fa032adcf0"
   }
  }
 },
 "nbformat": 4,
 "nbformat_minor": 2
}
